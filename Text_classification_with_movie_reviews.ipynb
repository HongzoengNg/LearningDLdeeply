{
  "nbformat": 4,
  "nbformat_minor": 0,
  "metadata": {
    "colab": {
      "name": "Text classification with movie reviews.ipynb",
      "version": "0.3.2",
      "provenance": [],
      "collapsed_sections": []
    },
    "kernelspec": {
      "name": "python3",
      "display_name": "Python 3"
    },
    "accelerator": "TPU"
  },
  "cells": [
    {
      "metadata": {
        "id": "zEFqHiNVVF-0",
        "colab_type": "code",
        "colab": {}
      },
      "cell_type": "code",
      "source": [
        "import tensorflow as tf\n",
        "from tensorflow import keras\n",
        "\n",
        "import numpy as np"
      ],
      "execution_count": 0,
      "outputs": []
    },
    {
      "metadata": {
        "id": "kdM56kJvV_uW",
        "colab_type": "code",
        "colab": {}
      },
      "cell_type": "code",
      "source": [
        "imdb = keras.datasets.imdb\n",
        "\n",
        "(train_data, train_labels), (test_data, test_labels) = imdb.load_data(num_words=10000)"
      ],
      "execution_count": 0,
      "outputs": []
    },
    {
      "metadata": {
        "id": "O10KY1vMdwqa",
        "colab_type": "code",
        "colab": {
          "base_uri": "https://localhost:8080/",
          "height": 34
        },
        "outputId": "e01a75d4-50b5-4f37-e9f3-bb3d96255f23"
      },
      "cell_type": "code",
      "source": [
        "print(\"Training entries: {}, labels: {}\".format(len(train_data), len(train_labels)))"
      ],
      "execution_count": 4,
      "outputs": [
        {
          "output_type": "stream",
          "text": [
            "Training entries: 25000, labels: 25000\n"
          ],
          "name": "stdout"
        }
      ]
    },
    {
      "metadata": {
        "id": "GWcygLum9jcD",
        "colab_type": "code",
        "colab": {
          "base_uri": "https://localhost:8080/",
          "height": 54
        },
        "outputId": "4cfee407-58b6-43bf-dc78-33421ca9e9c4"
      },
      "cell_type": "code",
      "source": [
        "print(train_data[0])"
      ],
      "execution_count": 5,
      "outputs": [
        {
          "output_type": "stream",
          "text": [
            "[1, 14, 22, 16, 43, 530, 973, 1622, 1385, 65, 458, 4468, 66, 3941, 4, 173, 36, 256, 5, 25, 100, 43, 838, 112, 50, 670, 2, 9, 35, 480, 284, 5, 150, 4, 172, 112, 167, 2, 336, 385, 39, 4, 172, 4536, 1111, 17, 546, 38, 13, 447, 4, 192, 50, 16, 6, 147, 2025, 19, 14, 22, 4, 1920, 4613, 469, 4, 22, 71, 87, 12, 16, 43, 530, 38, 76, 15, 13, 1247, 4, 22, 17, 515, 17, 12, 16, 626, 18, 2, 5, 62, 386, 12, 8, 316, 8, 106, 5, 4, 2223, 5244, 16, 480, 66, 3785, 33, 4, 130, 12, 16, 38, 619, 5, 25, 124, 51, 36, 135, 48, 25, 1415, 33, 6, 22, 12, 215, 28, 77, 52, 5, 14, 407, 16, 82, 2, 8, 4, 107, 117, 5952, 15, 256, 4, 2, 7, 3766, 5, 723, 36, 71, 43, 530, 476, 26, 400, 317, 46, 7, 4, 2, 1029, 13, 104, 88, 4, 381, 15, 297, 98, 32, 2071, 56, 26, 141, 6, 194, 7486, 18, 4, 226, 22, 21, 134, 476, 26, 480, 5, 144, 30, 5535, 18, 51, 36, 28, 224, 92, 25, 104, 4, 226, 65, 16, 38, 1334, 88, 12, 16, 283, 5, 16, 4472, 113, 103, 32, 15, 16, 5345, 19, 178, 32]\n"
          ],
          "name": "stdout"
        }
      ]
    },
    {
      "metadata": {
        "id": "8rDGerwmB_aa",
        "colab_type": "code",
        "colab": {
          "base_uri": "https://localhost:8080/",
          "height": 34
        },
        "outputId": "6ed21c20-e15e-43de-800b-bde8f3fb25da"
      },
      "cell_type": "code",
      "source": [
        "len(train_data[0]), len(train_data[1])"
      ],
      "execution_count": 6,
      "outputs": [
        {
          "output_type": "execute_result",
          "data": {
            "text/plain": [
              "(218, 189)"
            ]
          },
          "metadata": {
            "tags": []
          },
          "execution_count": 6
        }
      ]
    },
    {
      "metadata": {
        "id": "mqDlbDkpCSiJ",
        "colab_type": "code",
        "colab": {}
      },
      "cell_type": "code",
      "source": [
        "# A dictionary mapping words to an integer index\n",
        "word_index = imdb.get_word_index()"
      ],
      "execution_count": 0,
      "outputs": []
    },
    {
      "metadata": {
        "id": "-ondcvvVcApE",
        "colab_type": "code",
        "colab": {}
      },
      "cell_type": "code",
      "source": [
        "# The first indices are reserved\n",
        "word_index = {k:(v+3) for k,v in word_index.items()} \n",
        "word_index[\"<PAD>\"] = 0\n",
        "word_index[\"<START>\"] = 1\n",
        "word_index[\"<UNK>\"] = 2  # unknown\n",
        "word_index[\"<UNUSED>\"] = 3"
      ],
      "execution_count": 0,
      "outputs": []
    },
    {
      "metadata": {
        "id": "-FuhJO4McSGG",
        "colab_type": "code",
        "colab": {}
      },
      "cell_type": "code",
      "source": [
        "reverse_word_index = dict([(value, key) for (key, value) in word_index.items()])"
      ],
      "execution_count": 0,
      "outputs": []
    },
    {
      "metadata": {
        "id": "i432zY1ycVT8",
        "colab_type": "code",
        "colab": {
          "base_uri": "https://localhost:8080/",
          "height": 34
        },
        "outputId": "cea34e54-7bae-4a15-aeca-337ce1365961"
      },
      "cell_type": "code",
      "source": [
        "reverse_word_index[123]"
      ],
      "execution_count": 20,
      "outputs": [
        {
          "output_type": "execute_result",
          "data": {
            "text/plain": [
              "'show'"
            ]
          },
          "metadata": {
            "tags": []
          },
          "execution_count": 20
        }
      ]
    },
    {
      "metadata": {
        "id": "LRu56mF2cZWz",
        "colab_type": "code",
        "colab": {}
      },
      "cell_type": "code",
      "source": [
        "def decode_review(text):\n",
        "    return ' '.join([reverse_word_index.get(i, '?') for i in text])"
      ],
      "execution_count": 0,
      "outputs": []
    },
    {
      "metadata": {
        "id": "-5O_XvSBcco0",
        "colab_type": "code",
        "colab": {
          "base_uri": "https://localhost:8080/",
          "height": 54
        },
        "outputId": "de28ef7b-70e5-4d7d-8d52-d1db8720fd93"
      },
      "cell_type": "code",
      "source": [
        "decode_review(train_data[0])"
      ],
      "execution_count": 21,
      "outputs": [
        {
          "output_type": "execute_result",
          "data": {
            "text/plain": [
              "\"<START> this film was just brilliant casting location scenery story direction everyone's really suited the part they played and you could just imagine being there robert <UNK> is an amazing actor and now the same being director <UNK> father came from the same scottish island as myself so i loved the fact there was a real connection with this film the witty remarks throughout the film were great it was just brilliant so much that i bought the film as soon as it was released for <UNK> and would recommend it to everyone to watch and the fly fishing was amazing really cried at the end it was so sad and you know what they say if you cry at a film it must have been good and this definitely was also <UNK> to the two little boy's that played the <UNK> of norman and paul they were just brilliant children are often left out of the <UNK> list i think because the stars that play them all grown up are such a big profile for the whole film but these children are amazing and should be praised for what they have done don't you think the whole story was so lovely because it was true and was someone's life after all that was shared with us all\""
            ]
          },
          "metadata": {
            "tags": []
          },
          "execution_count": 21
        }
      ]
    },
    {
      "metadata": {
        "id": "lyEB9t9Gchc0",
        "colab_type": "code",
        "colab": {}
      },
      "cell_type": "code",
      "source": [
        "train_data = keras.preprocessing.sequence.pad_sequences(train_data,\n",
        "                                                        value=word_index[\"<PAD>\"],\n",
        "                                                        padding='post',\n",
        "                                                        maxlen=256)\n",
        "\n",
        "test_data = keras.preprocessing.sequence.pad_sequences(test_data,\n",
        "                                                       value=word_index[\"<PAD>\"],\n",
        "                                                       padding='post',\n",
        "                                                       maxlen=256)"
      ],
      "execution_count": 0,
      "outputs": []
    },
    {
      "metadata": {
        "id": "XiDH_m_rgcBr",
        "colab_type": "code",
        "colab": {
          "base_uri": "https://localhost:8080/",
          "height": 54
        },
        "outputId": "a7f11c8f-d694-42eb-af38-2320ec57030f"
      },
      "cell_type": "code",
      "source": [
        "decode_review(train_data[0])"
      ],
      "execution_count": 25,
      "outputs": [
        {
          "output_type": "execute_result",
          "data": {
            "text/plain": [
              "\"<START> this film was just brilliant casting location scenery story direction everyone's really suited the part they played and you could just imagine being there robert <UNK> is an amazing actor and now the same being director <UNK> father came from the same scottish island as myself so i loved the fact there was a real connection with this film the witty remarks throughout the film were great it was just brilliant so much that i bought the film as soon as it was released for <UNK> and would recommend it to everyone to watch and the fly fishing was amazing really cried at the end it was so sad and you know what they say if you cry at a film it must have been good and this definitely was also <UNK> to the two little boy's that played the <UNK> of norman and paul they were just brilliant children are often left out of the <UNK> list i think because the stars that play them all grown up are such a big profile for the whole film but these children are amazing and should be praised for what they have done don't you think the whole story was so lovely because it was true and was someone's life after all that was shared with us all <PAD> <PAD> <PAD> <PAD> <PAD> <PAD> <PAD> <PAD> <PAD> <PAD> <PAD> <PAD> <PAD> <PAD> <PAD> <PAD> <PAD> <PAD> <PAD> <PAD> <PAD> <PAD> <PAD> <PAD> <PAD> <PAD> <PAD> <PAD> <PAD> <PAD> <PAD> <PAD> <PAD> <PAD> <PAD> <PAD> <PAD> <PAD>\""
            ]
          },
          "metadata": {
            "tags": []
          },
          "execution_count": 25
        }
      ]
    },
    {
      "metadata": {
        "id": "Ah3yF5FShhH1",
        "colab_type": "code",
        "colab": {
          "base_uri": "https://localhost:8080/",
          "height": 338
        },
        "outputId": "e676e013-9eac-4022-f535-bae183a3402f"
      },
      "cell_type": "code",
      "source": [
        "print(train_data[0])"
      ],
      "execution_count": 26,
      "outputs": [
        {
          "output_type": "stream",
          "text": [
            "[   1   14   22   16   43  530  973 1622 1385   65  458 4468   66 3941\n",
            "    4  173   36  256    5   25  100   43  838  112   50  670    2    9\n",
            "   35  480  284    5  150    4  172  112  167    2  336  385   39    4\n",
            "  172 4536 1111   17  546   38   13  447    4  192   50   16    6  147\n",
            " 2025   19   14   22    4 1920 4613  469    4   22   71   87   12   16\n",
            "   43  530   38   76   15   13 1247    4   22   17  515   17   12   16\n",
            "  626   18    2    5   62  386   12    8  316    8  106    5    4 2223\n",
            " 5244   16  480   66 3785   33    4  130   12   16   38  619    5   25\n",
            "  124   51   36  135   48   25 1415   33    6   22   12  215   28   77\n",
            "   52    5   14  407   16   82    2    8    4  107  117 5952   15  256\n",
            "    4    2    7 3766    5  723   36   71   43  530  476   26  400  317\n",
            "   46    7    4    2 1029   13  104   88    4  381   15  297   98   32\n",
            " 2071   56   26  141    6  194 7486   18    4  226   22   21  134  476\n",
            "   26  480    5  144   30 5535   18   51   36   28  224   92   25  104\n",
            "    4  226   65   16   38 1334   88   12   16  283    5   16 4472  113\n",
            "  103   32   15   16 5345   19  178   32    0    0    0    0    0    0\n",
            "    0    0    0    0    0    0    0    0    0    0    0    0    0    0\n",
            "    0    0    0    0    0    0    0    0    0    0    0    0    0    0\n",
            "    0    0    0    0]\n"
          ],
          "name": "stdout"
        }
      ]
    },
    {
      "metadata": {
        "id": "GXLRBPJ2hzsa",
        "colab_type": "code",
        "colab": {
          "base_uri": "https://localhost:8080/",
          "height": 270
        },
        "outputId": "d16eb6ee-06ae-4720-e57b-f861c8533a4e"
      },
      "cell_type": "code",
      "source": [
        "# input shape is the vocabulary count used for the movie reviews (10,000 words)\n",
        "vocab_size = 10000\n",
        "\n",
        "model = keras.Sequential()\n",
        "model.add(keras.layers.Embedding(vocab_size, 16))\n",
        "model.add(keras.layers.GlobalAveragePooling1D())\n",
        "model.add(keras.layers.Dense(16, activation=tf.nn.relu))\n",
        "model.add(keras.layers.Dense(1, activation=tf.nn.sigmoid))\n",
        "\n",
        "model.summary()"
      ],
      "execution_count": 27,
      "outputs": [
        {
          "output_type": "stream",
          "text": [
            "_________________________________________________________________\n",
            "Layer (type)                 Output Shape              Param #   \n",
            "=================================================================\n",
            "embedding (Embedding)        (None, None, 16)          160000    \n",
            "_________________________________________________________________\n",
            "global_average_pooling1d (Gl (None, 16)                0         \n",
            "_________________________________________________________________\n",
            "dense (Dense)                (None, 16)                272       \n",
            "_________________________________________________________________\n",
            "dense_1 (Dense)              (None, 1)                 17        \n",
            "=================================================================\n",
            "Total params: 160,289\n",
            "Trainable params: 160,289\n",
            "Non-trainable params: 0\n",
            "_________________________________________________________________\n"
          ],
          "name": "stdout"
        }
      ]
    },
    {
      "metadata": {
        "id": "Xxid5n-vjWYy",
        "colab_type": "code",
        "colab": {}
      },
      "cell_type": "code",
      "source": [
        "model.compile(optimizer=tf.train.AdamOptimizer(),\n",
        "              loss='binary_crossentropy',\n",
        "              metrics=['accuracy'])"
      ],
      "execution_count": 0,
      "outputs": []
    },
    {
      "metadata": {
        "id": "yzkUHnDilsBK",
        "colab_type": "code",
        "colab": {}
      },
      "cell_type": "code",
      "source": [
        "x_val = train_data[:10000]\n",
        "partial_x_train = train_data[10000:]\n",
        "\n",
        "y_val = train_labels[:10000]\n",
        "partial_y_train = train_labels[10000:]"
      ],
      "execution_count": 0,
      "outputs": []
    },
    {
      "metadata": {
        "id": "aX04aZALmEHa",
        "colab_type": "code",
        "colab": {
          "base_uri": "https://localhost:8080/",
          "height": 1417
        },
        "outputId": "c4840243-20d1-4f7a-8198-d902a34e0ed8"
      },
      "cell_type": "code",
      "source": [
        "history = model.fit(partial_x_train,\n",
        "                    partial_y_train,\n",
        "                    epochs=40,\n",
        "                    batch_size=512,\n",
        "                    validation_data=(x_val, y_val),\n",
        "                    verbose=1)"
      ],
      "execution_count": 30,
      "outputs": [
        {
          "output_type": "stream",
          "text": [
            "Train on 15000 samples, validate on 10000 samples\n",
            "Epoch 1/40\n",
            "15000/15000 [==============================] - 1s 89us/step - loss: 0.6920 - acc: 0.5873 - val_loss: 0.6901 - val_acc: 0.6733\n",
            "Epoch 2/40\n",
            "15000/15000 [==============================] - 1s 66us/step - loss: 0.6866 - acc: 0.6967 - val_loss: 0.6825 - val_acc: 0.6520\n",
            "Epoch 3/40\n",
            "15000/15000 [==============================] - 1s 65us/step - loss: 0.6757 - acc: 0.7181 - val_loss: 0.6692 - val_acc: 0.7153\n",
            "Epoch 4/40\n",
            "15000/15000 [==============================] - 1s 66us/step - loss: 0.6576 - acc: 0.7219 - val_loss: 0.6491 - val_acc: 0.7650\n",
            "Epoch 5/40\n",
            "15000/15000 [==============================] - 1s 64us/step - loss: 0.6311 - acc: 0.7730 - val_loss: 0.6200 - val_acc: 0.7673\n",
            "Epoch 6/40\n",
            "15000/15000 [==============================] - 1s 66us/step - loss: 0.5963 - acc: 0.7955 - val_loss: 0.5859 - val_acc: 0.7768\n",
            "Epoch 7/40\n",
            "15000/15000 [==============================] - 1s 65us/step - loss: 0.5557 - acc: 0.8200 - val_loss: 0.5463 - val_acc: 0.8122\n",
            "Epoch 8/40\n",
            "15000/15000 [==============================] - 1s 65us/step - loss: 0.5110 - acc: 0.8435 - val_loss: 0.5059 - val_acc: 0.8315\n",
            "Epoch 9/40\n",
            "15000/15000 [==============================] - 1s 66us/step - loss: 0.4674 - acc: 0.8577 - val_loss: 0.4680 - val_acc: 0.8420\n",
            "Epoch 10/40\n",
            "15000/15000 [==============================] - 1s 67us/step - loss: 0.4265 - acc: 0.8717 - val_loss: 0.4345 - val_acc: 0.8516\n",
            "Epoch 11/40\n",
            "15000/15000 [==============================] - 1s 67us/step - loss: 0.3909 - acc: 0.8797 - val_loss: 0.4082 - val_acc: 0.8564\n",
            "Epoch 12/40\n",
            "15000/15000 [==============================] - 1s 66us/step - loss: 0.3604 - acc: 0.8875 - val_loss: 0.3827 - val_acc: 0.8644\n",
            "Epoch 13/40\n",
            "15000/15000 [==============================] - 1s 66us/step - loss: 0.3331 - acc: 0.8934 - val_loss: 0.3641 - val_acc: 0.8665\n",
            "Epoch 14/40\n",
            "15000/15000 [==============================] - 1s 67us/step - loss: 0.3105 - acc: 0.8988 - val_loss: 0.3479 - val_acc: 0.8710\n",
            "Epoch 15/40\n",
            "15000/15000 [==============================] - 1s 67us/step - loss: 0.2909 - acc: 0.9034 - val_loss: 0.3352 - val_acc: 0.8728\n",
            "Epoch 16/40\n",
            "15000/15000 [==============================] - 1s 67us/step - loss: 0.2743 - acc: 0.9069 - val_loss: 0.3249 - val_acc: 0.8752\n",
            "Epoch 17/40\n",
            "15000/15000 [==============================] - 1s 66us/step - loss: 0.2586 - acc: 0.9132 - val_loss: 0.3161 - val_acc: 0.8769\n",
            "Epoch 18/40\n",
            "15000/15000 [==============================] - 1s 67us/step - loss: 0.2450 - acc: 0.9181 - val_loss: 0.3089 - val_acc: 0.8802\n",
            "Epoch 19/40\n",
            "15000/15000 [==============================] - 1s 66us/step - loss: 0.2326 - acc: 0.9213 - val_loss: 0.3032 - val_acc: 0.8813\n",
            "Epoch 20/40\n",
            "15000/15000 [==============================] - 1s 65us/step - loss: 0.2217 - acc: 0.9239 - val_loss: 0.2983 - val_acc: 0.8834\n",
            "Epoch 21/40\n",
            "15000/15000 [==============================] - 1s 66us/step - loss: 0.2112 - acc: 0.9290 - val_loss: 0.2941 - val_acc: 0.8820\n",
            "Epoch 22/40\n",
            "15000/15000 [==============================] - 1s 66us/step - loss: 0.2017 - acc: 0.9326 - val_loss: 0.2914 - val_acc: 0.8823\n",
            "Epoch 23/40\n",
            "15000/15000 [==============================] - 1s 66us/step - loss: 0.1930 - acc: 0.9349 - val_loss: 0.2890 - val_acc: 0.8838\n",
            "Epoch 24/40\n",
            "15000/15000 [==============================] - 1s 66us/step - loss: 0.1845 - acc: 0.9392 - val_loss: 0.2865 - val_acc: 0.8847\n",
            "Epoch 25/40\n",
            "15000/15000 [==============================] - 1s 65us/step - loss: 0.1770 - acc: 0.9426 - val_loss: 0.2851 - val_acc: 0.8849\n",
            "Epoch 26/40\n",
            "15000/15000 [==============================] - 1s 65us/step - loss: 0.1696 - acc: 0.9459 - val_loss: 0.2841 - val_acc: 0.8845\n",
            "Epoch 27/40\n",
            "15000/15000 [==============================] - 1s 66us/step - loss: 0.1633 - acc: 0.9485 - val_loss: 0.2841 - val_acc: 0.8848\n",
            "Epoch 28/40\n",
            "15000/15000 [==============================] - 1s 66us/step - loss: 0.1568 - acc: 0.9515 - val_loss: 0.2831 - val_acc: 0.8858\n",
            "Epoch 29/40\n",
            "15000/15000 [==============================] - 1s 65us/step - loss: 0.1508 - acc: 0.9529 - val_loss: 0.2833 - val_acc: 0.8862\n",
            "Epoch 30/40\n",
            "15000/15000 [==============================] - 1s 66us/step - loss: 0.1456 - acc: 0.9552 - val_loss: 0.2842 - val_acc: 0.8860\n",
            "Epoch 31/40\n",
            "15000/15000 [==============================] - 1s 66us/step - loss: 0.1395 - acc: 0.9587 - val_loss: 0.2847 - val_acc: 0.8863\n",
            "Epoch 32/40\n",
            "15000/15000 [==============================] - 1s 65us/step - loss: 0.1346 - acc: 0.9602 - val_loss: 0.2860 - val_acc: 0.8859\n",
            "Epoch 33/40\n",
            "15000/15000 [==============================] - 1s 66us/step - loss: 0.1292 - acc: 0.9624 - val_loss: 0.2873 - val_acc: 0.8860\n",
            "Epoch 34/40\n",
            "15000/15000 [==============================] - 1s 66us/step - loss: 0.1247 - acc: 0.9646 - val_loss: 0.2892 - val_acc: 0.8860\n",
            "Epoch 35/40\n",
            "15000/15000 [==============================] - 1s 65us/step - loss: 0.1206 - acc: 0.9655 - val_loss: 0.2904 - val_acc: 0.8860\n",
            "Epoch 36/40\n",
            "15000/15000 [==============================] - 1s 66us/step - loss: 0.1157 - acc: 0.9680 - val_loss: 0.2927 - val_acc: 0.8847\n",
            "Epoch 37/40\n",
            "15000/15000 [==============================] - 1s 65us/step - loss: 0.1118 - acc: 0.9694 - val_loss: 0.2953 - val_acc: 0.8848\n",
            "Epoch 38/40\n",
            "15000/15000 [==============================] - 1s 64us/step - loss: 0.1083 - acc: 0.9704 - val_loss: 0.2973 - val_acc: 0.8847\n",
            "Epoch 39/40\n",
            "15000/15000 [==============================] - 1s 65us/step - loss: 0.1040 - acc: 0.9724 - val_loss: 0.2992 - val_acc: 0.8843\n",
            "Epoch 40/40\n",
            "15000/15000 [==============================] - 1s 65us/step - loss: 0.1004 - acc: 0.9741 - val_loss: 0.3020 - val_acc: 0.8843\n"
          ],
          "name": "stdout"
        }
      ]
    },
    {
      "metadata": {
        "id": "he4ZQtcDmfwZ",
        "colab_type": "code",
        "colab": {
          "base_uri": "https://localhost:8080/",
          "height": 52
        },
        "outputId": "cae2c6c8-4ed5-41ba-c9c1-40cadb0f34c2"
      },
      "cell_type": "code",
      "source": [
        "results = model.evaluate(test_data, test_labels)\n",
        "\n",
        "print(results)"
      ],
      "execution_count": 31,
      "outputs": [
        {
          "output_type": "stream",
          "text": [
            "25000/25000 [==============================] - 1s 50us/step\n",
            "[0.32268004457473753, 0.8732]\n"
          ],
          "name": "stdout"
        }
      ]
    },
    {
      "metadata": {
        "id": "RzcJV54pmz7S",
        "colab_type": "code",
        "colab": {
          "base_uri": "https://localhost:8080/",
          "height": 34
        },
        "outputId": "691bfe32-15aa-4153-ef4c-083ba24b0fa2"
      },
      "cell_type": "code",
      "source": [
        "history_dict = history.history\n",
        "history_dict.keys()"
      ],
      "execution_count": 32,
      "outputs": [
        {
          "output_type": "execute_result",
          "data": {
            "text/plain": [
              "dict_keys(['val_loss', 'val_acc', 'loss', 'acc'])"
            ]
          },
          "metadata": {
            "tags": []
          },
          "execution_count": 32
        }
      ]
    },
    {
      "metadata": {
        "id": "zyymza6dnG2i",
        "colab_type": "code",
        "colab": {
          "base_uri": "https://localhost:8080/",
          "height": 376
        },
        "outputId": "47eed829-54bb-4f80-cebe-72ed50fcb8cf"
      },
      "cell_type": "code",
      "source": [
        "import matplotlib.pyplot as plt\n",
        "\n",
        "acc = history.history['acc']\n",
        "val_acc = history.history['val_acc']\n",
        "loss = history.history['loss']\n",
        "val_loss = history.history['val_loss']\n",
        "\n",
        "epochs = range(1, len(acc) + 1)\n",
        "\n",
        "# \"bo\" is for \"blue dot\"\n",
        "plt.plot(epochs, loss, 'bo', label='Training loss')\n",
        "# b is for \"solid blue line\"\n",
        "plt.plot(epochs, val_loss, 'b', label='Validation loss')\n",
        "plt.title('Training and validation loss')\n",
        "plt.xlabel('Epochs')\n",
        "plt.ylabel('Loss')\n",
        "plt.legend()\n",
        "\n",
        "plt.show()"
      ],
      "execution_count": 33,
      "outputs": [
        {
          "output_type": "display_data",
          "data": {
            "image/png": "[encoded data removed]",
            "text/plain": [
              "<matplotlib.figure.Figure at 0x7f35dfde0518>"
            ]
          },
          "metadata": {
            "tags": []
          }
        }
      ]
    },
    {
      "metadata": {
        "id": "t6FsFPylnbj1",
        "colab_type": "code",
        "colab": {
          "base_uri": "https://localhost:8080/",
          "height": 376
        },
        "outputId": "d02fc918-d210-467a-c60e-b3d043abb821"
      },
      "cell_type": "code",
      "source": [
        "plt.clf()   # clear figure\n",
        "acc_values = history_dict['acc']\n",
        "val_acc_values = history_dict['val_acc']\n",
        "\n",
        "plt.plot(epochs, acc, 'bo', label='Training acc')\n",
        "plt.plot(epochs, val_acc, 'b', label='Validation acc')\n",
        "plt.title('Training and validation accuracy')\n",
        "plt.xlabel('Epochs')\n",
        "plt.ylabel('Accuracy')\n",
        "plt.legend()\n",
        "\n",
        "plt.show()"
      ],
      "execution_count": 34,
      "outputs": [
        {
          "output_type": "display_data",
          "data": {
            "image/png": "[encoded data removed]",
            "text/plain": [
              "<matplotlib.figure.Figure at 0x7f35dfde0080>"
            ]
          },
          "metadata": {
            "tags": []
          }
        }
      ]
    },
    {
      "metadata": {
        "id": "f9UbfDD7njYa",
        "colab_type": "code",
        "colab": {}
      },
      "cell_type": "code",
      "source": [
        ""
      ],
      "execution_count": 0,
      "outputs": []
    }
  ]
}